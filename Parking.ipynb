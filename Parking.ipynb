{
 "cells": [
  {
   "cell_type": "code",
   "execution_count": null,
   "id": "f8c18fb0",
   "metadata": {},
   "outputs": [],
   "source": [
    "import pandas as pd\n",
    "data_311 = pd.read_csv(\"311_Service_Requests_2020.csv\")"
   ]
  },
  {
   "cell_type": "code",
   "execution_count": null,
   "id": "a147ae21",
   "metadata": {},
   "outputs": [],
   "source": [
    "data_311group = data_311[data_311[\"Incident Zip\"] == 10027].groupby(\"Complaint Type\").size()"
   ]
  },
  {
   "cell_type": "code",
   "execution_count": null,
   "id": "fcd09555",
   "metadata": {},
   "outputs": [],
   "source": [
    "data_311groupcomp = data_311.groupby([\"Complaint Type\"]).size()"
   ]
  },
  {
   "cell_type": "code",
   "execution_count": null,
   "id": "f236afd7",
   "metadata": {},
   "outputs": [],
   "source": [
    "data_311groupcompv2 = data_311_grpby.reset_index()"
   ]
  },
  {
   "cell_type": "code",
   "execution_count": null,
   "id": "f79d245b",
   "metadata": {},
   "outputs": [],
   "source": [
    "Fraction_Incident_Zip = data_311groupcompv2[data_311groupcompv2[\"Complaint Type\"] == \"Illegal Parking\"][0]/data_311groupcompv2.sum(0)[0]"
   ]
  },
  {
   "cell_type": "code",
   "execution_count": null,
   "id": "1d00f299",
   "metadata": {},
   "outputs": [],
   "source": [
    "Fraction_Incident_Zip = float(Fraction_Incident_Zip)"
   ]
  },
  {
   "cell_type": "code",
   "execution_count": null,
   "id": "fc444baf",
   "metadata": {},
   "outputs": [],
   "source": [
    "Fraction_Incident_Zip"
   ]
  },
  {
   "cell_type": "code",
   "execution_count": null,
   "id": "b1e171de",
   "metadata": {},
   "outputs": [],
   "source": [
    "data_311groupcomp1 = data_311groupcomp.reset_index().copy()"
   ]
  },
  {
   "cell_type": "code",
   "execution_count": 38,
   "id": "06e2c63f",
   "metadata": {},
   "outputs": [],
   "source": [
    "Fraction_All_Zips = data_311groupcomp1[data_311groupcomp1[\"Complaint Type\"] == \"Illegal Parking\"][0]/data_311groupcomp1.sum(0)[0]"
   ]
  },
  {
   "cell_type": "code",
   "execution_count": 39,
   "id": "ae8fcac3",
   "metadata": {},
   "outputs": [],
   "source": [
    "Fraction_All_Zips = float(Fraction_All_Zips)"
   ]
  },
  {
   "cell_type": "code",
   "execution_count": 40,
   "id": "a8258a91",
   "metadata": {},
   "outputs": [
    {
     "data": {
      "text/plain": [
       "0.07487334365033108"
      ]
     },
     "execution_count": 40,
     "metadata": {},
     "output_type": "execute_result"
    }
   ],
   "source": [
    "Fraction_All_Zips"
   ]
  },
  {
   "cell_type": "code",
   "execution_count": 41,
   "id": "e7e609ff",
   "metadata": {},
   "outputs": [],
   "source": [
    "higher_parking_proportion = Fraction_Incident_Zip > Fraction_All_Zips"
   ]
  },
  {
   "cell_type": "code",
   "execution_count": 42,
   "id": "45e12e25",
   "metadata": {},
   "outputs": [
    {
     "data": {
      "text/plain": [
       "False"
      ]
     },
     "execution_count": 42,
     "metadata": {},
     "output_type": "execute_result"
    }
   ],
   "source": [
    "higher_parking_proportion"
   ]
  },
  {
   "cell_type": "code",
   "execution_count": 14,
   "id": "6e6b1e20",
   "metadata": {},
   "outputs": [],
   "source": [
    "#type(higher_parking_proportion)"
   ]
  },
  {
   "cell_type": "code",
   "execution_count": null,
   "id": "afe8b453",
   "metadata": {},
   "outputs": [],
   "source": []
  },
  {
   "cell_type": "code",
   "execution_count": null,
   "id": "e38d117d",
   "metadata": {},
   "outputs": [],
   "source": []
  },
  {
   "cell_type": "code",
   "execution_count": null,
   "id": "b94bc6bd",
   "metadata": {},
   "outputs": [],
   "source": []
  },
  {
   "cell_type": "code",
   "execution_count": null,
   "id": "c44092df",
   "metadata": {},
   "outputs": [],
   "source": []
  }
 ],
 "metadata": {
  "kernelspec": {
   "display_name": "Python 3",
   "language": "python",
   "name": "python3"
  },
  "language_info": {
   "codemirror_mode": {
    "name": "ipython",
    "version": 3
   },
   "file_extension": ".py",
   "mimetype": "text/x-python",
   "name": "python",
   "nbconvert_exporter": "python",
   "pygments_lexer": "ipython3",
   "version": "3.8.8"
  }
 },
 "nbformat": 4,
 "nbformat_minor": 5
}
